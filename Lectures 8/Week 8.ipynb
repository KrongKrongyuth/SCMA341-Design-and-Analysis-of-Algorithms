{
 "cells": [
  {
   "cell_type": "markdown",
   "id": "3731136e",
   "metadata": {},
   "source": [
    "# Adjusted dijkstra's algorithm \n",
    "\n",
    "Find the path with widest bottleneck (maximum capacity).\n"
   ]
  },
  {
   "cell_type": "code",
   "execution_count": 1,
   "id": "6760a324",
   "metadata": {},
   "outputs": [],
   "source": [
    "import math\n",
    "import copy"
   ]
  },
  {
   "cell_type": "code",
   "execution_count": 2,
   "id": "41d51321",
   "metadata": {},
   "outputs": [],
   "source": [
    "def dijk(graph, start, end):\n",
    "    \n",
    "    # Initiate all the bottleneck to be 0\n",
    "    neck = [0] *len(graph)\n",
    "    fromNode = [-1]*len(graph)\n",
    "\n",
    "    # The first node comes with infinite width bottleneck\n",
    "    neck[start] = math.inf\n",
    "    \n",
    "    handled = []\n",
    "    \n",
    "    handled.append(start)\n",
    "    \n",
    "    while end not in handled:\n",
    "        \n",
    "        # Get the most recent node\n",
    "        lastNode = handled[-1]\n",
    "        \n",
    "        #****************************************\n",
    "        # Try every connection from the most recent node\n",
    "        for n in range(len(graph[lastNode])):\n",
    "            if (graph[lastNode][n] >0) and (n not in handled):\n",
    "        \n",
    "        \n",
    "                # Update new bottleneck from recently handled node\n",
    "                newNeck = min(neck[lastNode], graph[lastNode][n])\n",
    "                \n",
    "                # update the connection with better bottleneck\n",
    "                if newNeck > neck[n]:\n",
    "                    neck[n]  = newNeck\n",
    "                    fromNode[n] = lastNode\n",
    "                    \n",
    "        \n",
    "        \n",
    "        # Choose widest unhandled to be next handle\n",
    "        nextHandled = -1\n",
    "        maxNeck = 0\n",
    "        \n",
    "        for m in range(len(graph)):\n",
    "            if m not in handled:\n",
    "                \n",
    "                if neck[m] > maxNeck:\n",
    "                    maxNeck = neck[m]\n",
    "                    nextHandled = m\n",
    "        handled.append(nextHandled)\n",
    "        \n",
    "        #******************************************\n",
    "        \n",
    "        # handled grows larger than \n",
    "        if len(handled) > len(graph):\n",
    "            return([])\n",
    "        \n",
    "    #generate path\n",
    "    path = [end]\n",
    "    while path[0] != start:\n",
    "        path = [fromNode[path[0]]] + path\n",
    "        \n",
    "   \n",
    "    return(path)\n",
    "    "
   ]
  },
  {
   "cell_type": "code",
   "execution_count": 4,
   "id": "f6890daf",
   "metadata": {},
   "outputs": [],
   "source": [
    "def maxFlow(graph, start, end):\n",
    "    \n",
    "    # Store capacity of the edges\n",
    "    cap  =  copy.deepcopy(graph)\n",
    "    \n",
    "    # Store the actual flow that has been utilized for each edge\n",
    "    flow = [[0]*len(graph) for i in range(len(graph))]\n",
    "    \n",
    "    print(flow)\n",
    "    \n",
    "    path = dijk(cap, start, end)\n",
    "    \n",
    "    print(path)\n",
    "    \n",
    "    #While there is a path\n",
    "    while path != []:\n",
    "        \n",
    "        #The actual amount of flow that can pass through the bottleneck\n",
    "        minPath = min([cap[path[i]][path[i+1]] for i in range(len(path)-1)])\n",
    "        print(\"minPath\", minPath)\n",
    "\n",
    "    \n",
    "        for i in range(len(path)-1):\n",
    "            \n",
    "            # The capacity is reduced in the original direction of the flow\n",
    "            cap[path[i]][path[i+1]] -= minPath\n",
    "            \n",
    "            # The capacity of the reverse flow increases\n",
    "            cap[path[i+1]][path[i]] += minPath\n",
    "            \n",
    "            # Now cap is the residual graph\n",
    "            \n",
    "            if graph[path[i]][path[i+1]] > 0:\n",
    "                flow[path[i]][path[i+1]] += minPath\n",
    "            else:\n",
    "                flow[path[i+1]][path[i]] -= minPath\n",
    "            \n",
    "        # Find a new path\n",
    "        path = dijk(cap, start, end)\n",
    "        print(path)\n",
    "\n",
    "    return(flow)\n"
   ]
  },
  {
   "cell_type": "code",
   "execution_count": 6,
   "id": "765133a7",
   "metadata": {},
   "outputs": [
    {
     "name": "stdout",
     "output_type": "stream",
     "text": [
      "[[0, 0, 0, 0, 0, 0], [0, 0, 0, 0, 0, 0], [0, 0, 0, 0, 0, 0], [0, 0, 0, 0, 0, 0], [0, 0, 0, 0, 0, 0], [0, 0, 0, 0, 0, 0]]\n",
      "[0, 2, 4, 5]\n",
      "minPath 4\n",
      "[0, 1, 3, 4, 5]\n",
      "minPath 3\n",
      "[0, 1, 3, 5]\n",
      "minPath 2\n",
      "[0, 1, 4, 5]\n",
      "minPath 1\n",
      "[]\n"
     ]
    },
    {
     "data": {
      "text/plain": [
       "[[0, 6, 4, 0, 0, 0],\n",
       " [0, 0, 0, 5, 1, 0],\n",
       " [0, 0, 0, 0, 4, 0],\n",
       " [0, 0, 0, 0, 3, 2],\n",
       " [0, 0, 0, 0, 0, 8],\n",
       " [0, 0, 0, 0, 0, 0]]"
      ]
     },
     "execution_count": 6,
     "metadata": {},
     "output_type": "execute_result"
    }
   ],
   "source": [
    "#graph = [[0, 4, 3, 0],\n",
    "#        [0, 0, 4, 3],\n",
    "#        [0, 0, 0, 4],\n",
    "#        [0, 0, 0, 0],\n",
    "#        ]\n",
    "\n",
    "\n",
    "graph = [[0, 10, 10, 0, 0, 0 ],\n",
    "        [0, 0, 10, 10, 1, 0 ],\n",
    "        [0, 0, 0, 0, 4, 0],\n",
    "        [0, 0, 0, 0, 3, 2],\n",
    "        [0, 0, 0, 0, 0, 10],\n",
    "        [0, 0, 0, 0, 0, 0]]\n",
    "\n",
    "maxFlow(graph, 0, 5)"
   ]
  },
  {
   "cell_type": "code",
   "execution_count": null,
   "id": "9d559b65",
   "metadata": {},
   "outputs": [],
   "source": []
  }
 ],
 "metadata": {
  "kernelspec": {
   "display_name": "Python 3 (ipykernel)",
   "language": "python",
   "name": "python3"
  },
  "language_info": {
   "codemirror_mode": {
    "name": "ipython",
    "version": 3
   },
   "file_extension": ".py",
   "mimetype": "text/x-python",
   "name": "python",
   "nbconvert_exporter": "python",
   "pygments_lexer": "ipython3",
   "version": "3.10.0"
  }
 },
 "nbformat": 4,
 "nbformat_minor": 5
}
