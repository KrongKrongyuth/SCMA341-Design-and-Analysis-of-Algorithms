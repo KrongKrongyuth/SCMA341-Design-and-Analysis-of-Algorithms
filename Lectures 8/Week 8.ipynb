{
 "cells": [
  {
   "cell_type": "markdown",
   "id": "3731136e",
   "metadata": {},
   "source": [
    "# Adjusted dijkstra's algorithm \n",
    "\n",
    "Find the path with widest bottleneck (maximum capacity).\n"
   ]
  },
  {
   "cell_type": "code",
   "execution_count": 1,
   "id": "6760a324",
   "metadata": {},
   "outputs": [],
   "source": [
    "import math\n",
    "import copy"
   ]
  },
  {
   "cell_type": "code",
   "execution_count": 37,
   "id": "41d51321",
   "metadata": {},
   "outputs": [],
   "source": [
    "def dijk(graph, start, end):\n",
    "    \n",
    "    # Initiate all the bottleneck to be 0\n",
    "    neck = [0] * len(graph)                                              # Create a list containing zero with the same number of node.\n",
    "    fromNode = [-1] * len(graph)                                         # Create a list that contain -1 with the same number of node.\n",
    "    # Create the table that store the value of path and from node like the table in Lesson 7.\n",
    "\n",
    "    # The first node comes with infinite width bottleneck\n",
    "    neck[start] = math.inf                                              # The value of the first node must be infinity because we need to compare with > 0 value.\n",
    "    \n",
    "    handled = []                                                        # Create a list contain what is the node that we already visited.\n",
    "    \n",
    "    handled.append(start)                                               # Start to append the first node that we start because is the first node that we are visted.\n",
    "    \n",
    "    while end not in handled:\n",
    "        \n",
    "        # Get the most recent node\n",
    "        lastNode = handled[-1]\n",
    "        \n",
    "        #****************************************\n",
    "        # Try every connection from the most recent node\n",
    "        for n in range(len(graph[lastNode])):                           # Loop in each node.\n",
    "            if (graph[lastNode][n] > 0) and (n not in handled):         # Checking if the capacity between each node are more than 0 and this node not visted.\n",
    "                \n",
    "                # Update new bottleneck from recently handled node\n",
    "                newNeck = min(neck[lastNode], graph[lastNode][n])       # Create new variable call newNeck to store the minimum value of bottle neck.\n",
    "                \n",
    "                # update the connection with better bottleneck\n",
    "                if newNeck > neck[n]:                                   # Checking if value newNeck > neck[n].\n",
    "                    neck[n]  = newNeck                                  # Update neck[n] by newNeck.\n",
    "                    fromNode[n] = lastNode                              # Update the the source node.\n",
    "                    \n",
    "        # Choose widest unhandled to be next handle\n",
    "        nextHandled = -1\n",
    "        maxNeck = 0\n",
    "        \n",
    "        for m in range(len(graph)):\n",
    "            if m not in handled:\n",
    "                \n",
    "                if neck[m] > maxNeck:\n",
    "                    maxNeck = neck[m]\n",
    "                    nextHandled = m\n",
    "        handled.append(nextHandled)\n",
    "        \n",
    "        #******************************************\n",
    "        \n",
    "        # handled grows larger than \n",
    "        if len(handled) > len(graph):\n",
    "            return([])\n",
    "        \n",
    "    #generate path\n",
    "    path = [end]\n",
    "    while path[0] != start:\n",
    "        path = [fromNode[path[0]]] + path\n",
    "        \n",
    "    print(neck, fromNode)\n",
    "    return(path)\n",
    "    "
   ]
  },
  {
   "cell_type": "code",
   "execution_count": 38,
   "id": "f6890daf",
   "metadata": {},
   "outputs": [],
   "source": [
    "def maxFlow(graph, start, end):\n",
    "    \n",
    "    # Store capacity of the edges\n",
    "    cap  =  copy.deepcopy(graph)\n",
    "    \n",
    "    # Store the actual flow that has been utilized for each edge\n",
    "    flow = [[0]*len(graph) for i in range(len(graph))]\n",
    "    \n",
    "    print(flow)\n",
    "    \n",
    "    path = dijk(cap, start, end)\n",
    "    \n",
    "    print(path)\n",
    "    \n",
    "    #While there is a path\n",
    "    while path != []:\n",
    "        \n",
    "        #The actual amount of flow that can pass through the bottleneck\n",
    "        minPath = min([cap[path[i]][path[i+1]] for i in range(len(path)-1)])\n",
    "        print(\"minPath\", minPath)\n",
    "\n",
    "    \n",
    "        for i in range(len(path)-1):\n",
    "            \n",
    "            # The capacity is reduced in the original direction of the flow\n",
    "            cap[path[i]][path[i+1]] -= minPath\n",
    "            \n",
    "            # The capacity of the reverse flow increases\n",
    "            cap[path[i+1]][path[i]] += minPath\n",
    "            \n",
    "            # Now cap is the residual graph\n",
    "            \n",
    "            if graph[path[i]][path[i+1]] > 0:\n",
    "                flow[path[i]][path[i+1]] += minPath\n",
    "            else:\n",
    "                flow[path[i+1]][path[i]] -= minPath\n",
    "            \n",
    "        # Find a new path\n",
    "        path = dijk(cap, start, end)\n",
    "        print(path)\n",
    "\n",
    "    return(flow)\n"
   ]
  },
  {
   "cell_type": "code",
   "execution_count": 39,
   "id": "765133a7",
   "metadata": {},
   "outputs": [
    {
     "name": "stdout",
     "output_type": "stream",
     "text": [
      "1 0 inf 10 10\n",
      "2 0 inf 10 10\n",
      "3 0 10 10 10\n",
      "4 0 10 1 1\n",
      "4 1 10 4 4\n",
      "5 0 10 2 2\n",
      "5 2 4 10 4\n",
      "[inf, 10, 10, 10, 4, 4] [-1, 0, 0, 1, 2, 4]\n"
     ]
    },
    {
     "data": {
      "text/plain": [
       "[0, 2, 4, 5]"
      ]
     },
     "execution_count": 39,
     "metadata": {},
     "output_type": "execute_result"
    }
   ],
   "source": [
    "#graph = [[0, 4, 3, 0],\n",
    "#        [0, 0, 4, 3],\n",
    "#        [0, 0, 0, 4],\n",
    "#        [0, 0, 0, 0],\n",
    "#        ]\n",
    "\n",
    "\n",
    "graph = [[0, 10, 10, 0, 0, 0 ],\n",
    "        [0, 0, 10, 10, 1, 0 ],\n",
    "        [0, 0, 0, 0, 4, 0],\n",
    "        [0, 0, 0, 0, 3, 2],\n",
    "        [0, 0, 0, 0, 0, 10],\n",
    "        [0, 0, 0, 0, 0, 0]]\n",
    "\n",
    "# maxFlow(graph, 0, 5)\n",
    "dijk(graph, 0, 5)"
   ]
  },
  {
   "cell_type": "code",
   "execution_count": null,
   "id": "9d559b65",
   "metadata": {},
   "outputs": [],
   "source": []
  }
 ],
 "metadata": {
  "kernelspec": {
   "display_name": "Python 3 (ipykernel)",
   "language": "python",
   "name": "python3"
  },
  "language_info": {
   "codemirror_mode": {
    "name": "ipython",
    "version": 3
   },
   "file_extension": ".py",
   "mimetype": "text/x-python",
   "name": "python",
   "nbconvert_exporter": "python",
   "pygments_lexer": "ipython3",
   "version": "3.10.0"
  }
 },
 "nbformat": 4,
 "nbformat_minor": 5
}
