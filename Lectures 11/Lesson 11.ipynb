{
 "cells": [
  {
   "cell_type": "code",
   "execution_count": 53,
   "id": "2f9caacc",
   "metadata": {},
   "outputs": [
    {
     "data": {
      "text/plain": [
       "6407963392187304281841798272438232739061872369090499679936138002595969954995729996009530986752109075490051342912392248623002336700669598411106793503052752723598889191673739937391338517423536932467913589952955855532554719235123208122959284659115605908144133451198231142220455548755354177333029633761777570702667664770494029983753498878472002972562771591885726527131493259605057060422439458532060800482335286755275000842531387940393774981855067577095992967938702710151252057439534085464894610958094243811241939147790325325216820797135050184750301300622765184357290880091188901469612393283497023514113667265452508865061086657"
      ]
     },
     "execution_count": 53,
     "metadata": {},
     "output_type": "execute_result"
    }
   ],
   "source": [
    "import matplotlib.pyplot as plt\n",
    "\n",
    "# Dynamic fibo\n",
    "def fibo(n, memo = {0:0, 1:1}):\n",
    "    if n <= 1:\n",
    "        return memo[n]\n",
    "    if n not in memo: \n",
    "        memo[n] = fibo(n-1) + fibo(n-2)\n",
    "        return fibo(n-1) + fibo(n-2)\n",
    "    else: \n",
    "        return memo[n]\n",
    "\n",
    "def fib(n: int) -> int:\n",
    "    golden_ratio = (1+(5 ** 0.5))/2\n",
    "    return int(round((golden_ratio ** n)/ 5 ** 0.5))\n",
    "\n",
    "# y = [fibo(i) for i in range(50)]\n",
    "# x = range(50)\n",
    "\n",
    "# plt.plot(x, y);\n",
    "fibo(2977)"
   ]
  },
  {
   "cell_type": "code",
   "execution_count": 63,
   "id": "18cc52bd",
   "metadata": {},
   "outputs": [
    {
     "name": "stdout",
     "output_type": "stream",
     "text": [
      "machine epsilon = 1.1102230246251565e-16\n",
      "True False\n"
     ]
    }
   ],
   "source": [
    "epsilon = 1\n",
    "\n",
    "while True:\n",
    "    if 1 + epsilon == 1: \n",
    "        print(f\"machine epsilon = {epsilon}\")\n",
    "        break\n",
    "    else: epsilon = epsilon/2\n",
    "\n",
    "print(5 + epsilon == 5, epsilon == 0)"
   ]
  },
  {
   "cell_type": "markdown",
   "metadata": {},
   "source": [
    "# 0/1 Knapsack problem"
   ]
  },
  {
   "cell_type": "code",
   "execution_count": null,
   "metadata": {},
   "outputs": [],
   "source": [
    "import numpy as np\n",
    "\n",
    "# Add 0 in front of the weight and profit so that the first object index is 1\n",
    "#Weights\n",
    "w = [0,3,8,2,6,5,4]\n",
    "w = [0,2,3,4,5]\n",
    "\n",
    "#Profit\n",
    "p = [0,3,16,1,8,4,8]\n",
    "p = [0,1,2,5,6]\n",
    "\n",
    "cap = 8\n",
    "\n",
    "numObj = len(w)-1\n",
    "\n",
    "\n",
    "# Table storing the optimal profit\n",
    "opt = np.zeros((numObj+1,cap+1))\n",
    "\n",
    "# Reference to the smaller optimal choice by pointing to a column in the row above\n",
    "ref = np.zeros((numObj+1,cap+1))\n",
    "\n",
    "# Loop on the number of objects\n",
    "for i in range(1, numObj+1):\n",
    "        \n",
    "    # Loop on the capacity\n",
    "    for j in range(cap+1):\n",
    "\n",
    "        # Object i cannot fit the bag size j\n",
    "        if j < w[i]:\n",
    "            # Then use the previous optimal solution from the row above\n",
    "            \n",
    "            \n",
    "            \n",
    "            # Make a reference to the current column\n",
    "            \n",
    "            \n",
    "            \n",
    "        # This object i can fit the bag\n",
    "        elif j >= w[i]:\n",
    "            \n",
    "            # Case 1: \n",
    "            # Profit when including object i is better than the previous optimal solution\n",
    "            if \n",
    "                \n",
    "                # Update the maximum profit so far\n",
    "                \n",
    "                \n",
    "                # Make a reference to the w columns before\n",
    "                \n",
    "                \n",
    "            # Case 2: \n",
    "            # Profit when not including object i is better\n",
    "            else:\n",
    "                # Then use the previous optimal solution from the row above\n",
    "                \n",
    "                \n",
    "                # Make a reference to the current column\n",
    "                \n",
    "                \n",
    "            \n",
    "            \n",
    "print(\"Optimal profit\")\n",
    "print(opt)\n",
    "print(\"References\")\n",
    "print(ref)\n",
    "\n"
   ]
  },
  {
   "cell_type": "code",
   "execution_count": null,
   "metadata": {},
   "outputs": [],
   "source": [
    "numObj = len(w)-1\n",
    "opt[numObj][cap]\n",
    "\n",
    "m = cap\n",
    "\n",
    "choice = []\n",
    "for k in range(numObj):\n",
    "    # m is the previous ref\n",
    "    # n is the current ref\n",
    "    \n",
    "    \n",
    "    n = int(ref[numObj-k][m])\n",
    "    print(m, \"refers to column\", n)\n",
    "    \n",
    "    # If current ref = previous ref, it means the object choices are the same\n",
    "    # i.e., the current choice is not chosen\n",
    "    if n == m:\n",
    "        choice = [0]+choice\n",
    "    else:\n",
    "        choice = [1]+choice\n",
    "    m = n\n",
    "    \n",
    "choice\n"
   ]
  }
 ],
 "metadata": {
  "kernelspec": {
   "display_name": "Python 3",
   "language": "python",
   "name": "python3"
  },
  "language_info": {
   "codemirror_mode": {
    "name": "ipython",
    "version": 3
   },
   "file_extension": ".py",
   "mimetype": "text/x-python",
   "name": "python",
   "nbconvert_exporter": "python",
   "pygments_lexer": "ipython3",
   "version": "3.12.2"
  }
 },
 "nbformat": 4,
 "nbformat_minor": 5
}
