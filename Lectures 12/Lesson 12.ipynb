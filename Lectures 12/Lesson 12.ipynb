{
 "cells": [
  {
   "cell_type": "code",
   "execution_count": 3,
   "id": "ab592235",
   "metadata": {},
   "outputs": [
    {
     "name": "stdout",
     "output_type": "stream",
     "text": [
      "[[0. 0. 0. 0. 0. 0. 0. 0. 0. 0. 0.]\n",
      " [0. 1. 1. 1. 1. 1. 1. 1. 1. 1. 1.]\n",
      " [0. 1. 1. 2. 2. 2. 2. 2. 2. 2. 2.]\n",
      " [0. 1. 1. 2. 3. 3. 3. 3. 3. 3. 3.]\n",
      " [0. 1. 1. 2. 3. 3. 3. 3. 4. 4. 4.]\n",
      " [0. 1. 2. 2. 3. 4. 4. 4. 4. 5. 5.]\n",
      " [0. 1. 2. 2. 3. 4. 4. 4. 5. 5. 6.]\n",
      " [0. 1. 2. 3. 3. 4. 5. 5. 5. 5. 6.]\n",
      " [0. 1. 2. 3. 3. 4. 5. 5. 5. 6. 6.]\n",
      " [0. 1. 2. 3. 3. 4. 5. 6. 6. 6. 6.]]\n",
      "b\n",
      "b\n",
      "c\n",
      "a\n",
      "b\n",
      "a\n"
     ]
    }
   ],
   "source": [
    "import numpy as np\n",
    "\n",
    "s1 = [\"a\", \"b\", \"a\", \"a\", \"c\", \"a\", \"b\", \"c\", \"b\"]\n",
    "s2 = [\"a\", \"c\",\"b\", \"a\", \"c\", \"b\", \"b\", \"a\", \"c\", \"a\"]\n",
    "\n",
    "\n",
    "    \n",
    "\n",
    "opt = np.zeros((len(s1)+1, len(s2)+1))\n",
    "\n",
    "ref = np.zeros((len(s1)+1, len(s2)+1, 2))\n",
    "opt\n",
    "\n",
    "for i in range(1, len(s1)+1):\n",
    "    for j in range(1, len(s2)+1):\n",
    "        if s1[i-1] == s2[j-1]:\n",
    "            opt[i][j]  = opt[i-1][j-1]+1\n",
    "            ref[i][j][0] = i-1\n",
    "            ref[i][j][1] = j-1\n",
    "        else:\n",
    "            opt[i][j]  =  max(opt[i-1][j],  opt[i][j-1])\n",
    "            if opt[i-1][j] > opt[i][j-1]:\n",
    "                ref[i][j][0] = i-1\n",
    "                ref[i][j][1] = j\n",
    "            else:\n",
    "                ref[i][j][0] = i\n",
    "                ref[i][j][1] = j-1\n",
    "print(opt)\n",
    "\n",
    "ref\n",
    "\n",
    "\n",
    "m = len(s1)\n",
    "n = len(s2)\n",
    "\n",
    "\n",
    "while opt[m][n] > 0:\n",
    "    x,y = int(ref[m][n][0]), int(ref[m][n][1])\n",
    "    \n",
    "    if x == m-1 and y == n-1:\n",
    "        print(s1[m-1])\n",
    "    m,n = x,y\n",
    "    #print(m,n)\n",
    "    "
   ]
  },
  {
   "cell_type": "markdown",
   "id": "3db11f9b",
   "metadata": {},
   "source": [
    "# Matrix Chain multiplication\n"
   ]
  },
  {
   "cell_type": "code",
   "execution_count": 6,
   "id": "0910f24b",
   "metadata": {},
   "outputs": [
    {
     "name": "stdout",
     "output_type": "stream",
     "text": [
      "[[  0.  80. 176. 212. 236. 276.]\n",
      " [  0.   0. 240. 264. 324. 399.]\n",
      " [  0.   0.   0. 144. 240. 324.]\n",
      " [  0.   0.   0.   0.  72. 150.]\n",
      " [  0.   0.   0.   0.   0.  60.]\n",
      " [  0.   0.   0.   0.   0.   0.]]\n",
      "[[0. 0. 1. 2. 3. 4.]\n",
      " [0. 0. 1. 1. 3. 3.]\n",
      " [0. 0. 0. 2. 3. 3.]\n",
      " [0. 0. 0. 0. 3. 3.]\n",
      " [0. 0. 0. 0. 0. 4.]\n",
      " [0. 0. 0. 0. 0. 0.]]\n"
     ]
    }
   ],
   "source": [
    "import math\n",
    "dims = [[2,5],[5,8],[8,6],[6,3],[3,4],[4,5]]\n",
    "\n",
    "opt = np.zeros((len(dims), len(dims)))\n",
    "ref = np.zeros((len(dims), len(dims)))\n",
    "\n",
    "#Store cost of multiplying matrix i to j\n",
    "for length in range(1, len(dims)):\n",
    "    for start in range(0, len(dims)-length):\n",
    "        \n",
    "        \n",
    "        # find min among every partition\n",
    "        minCost = math.inf\n",
    "        minRef = -1\n",
    "        for partition in range(length):\n",
    "            cost = opt[start][start + partition]  + opt[start + partition+1][start+length] + dims[start][0]*dims[start + partition][1]*dims[start+length][1]\n",
    "            if cost < minCost:\n",
    "                \n",
    "                minCost = cost\n",
    "                minRef = start+partition\n",
    "        opt[start][start+length] = minCost\n",
    "        ref[start][start+length] = minRef\n",
    "print(opt)\n",
    "print(ref)\n",
    "\n"
   ]
  }
 ],
 "metadata": {
  "kernelspec": {
   "display_name": "Python 3 (ipykernel)",
   "language": "python",
   "name": "python3"
  },
  "language_info": {
   "codemirror_mode": {
    "name": "ipython",
    "version": 3
   },
   "file_extension": ".py",
   "mimetype": "text/x-python",
   "name": "python",
   "nbconvert_exporter": "python",
   "pygments_lexer": "ipython3",
   "version": "3.10.9"
  }
 },
 "nbformat": 4,
 "nbformat_minor": 5
}
