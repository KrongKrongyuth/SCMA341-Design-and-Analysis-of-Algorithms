{
 "cells": [
  {
   "cell_type": "markdown",
   "metadata": {},
   "source": [
    "## Loop invariant\n",
    "\n",
    "Use loop invariant to check whether the algorithm works as desired or not. \n",
    "\n",
    "Add lines of code to show the status of important variables"
   ]
  },
  {
   "cell_type": "code",
   "execution_count": 3,
   "metadata": {},
   "outputs": [
    {
     "name": "stdout",
     "output_type": "stream",
     "text": [
      "56 [56]\n",
      "56 [56, 14]\n",
      "56 [56, 14, 6]\n",
      "56 [56, 14, 6, 16]\n",
      "98 [56, 14, 6, 16, 98]\n",
      "54654 [56, 14, 6, 16, 98, 54654]\n",
      "54654 [56, 14, 6, 16, 98, 54654, 34234]\n",
      "1423235 [56, 14, 6, 16, 98, 54654, 34234, 1423235]\n",
      "1423235 [56, 14, 6, 16, 98, 54654, 34234, 1423235, 235]\n"
     ]
    },
    {
     "data": {
      "text/plain": [
       "1423235"
      ]
     },
     "execution_count": 3,
     "metadata": {},
     "output_type": "execute_result"
    }
   ],
   "source": [
    "import math\n",
    "def max_list(L):\n",
    "    maxSoFar = -math.inf\n",
    "    for i in range(len(L)):\n",
    "        item = L[i]\n",
    "        if item > maxSoFar :\n",
    "            maxSoFar = item\n",
    "        # print L.I. here\n",
    "        print(maxSoFar, L[:i+1])\n",
    "        \n",
    "    return(maxSoFar)\n",
    "\n",
    "L = [56,14,6,16,98,54654, 34234, 1423235,235]\n",
    "max_list(L)"
   ]
  },
  {
   "cell_type": "markdown",
   "metadata": {},
   "source": [
    "## Sum from 1 to N"
   ]
  },
  {
   "cell_type": "code",
   "execution_count": 5,
   "metadata": {
    "scrolled": true
   },
   "outputs": [
    {
     "data": {
      "text/plain": [
       "5050"
      ]
     },
     "execution_count": 5,
     "metadata": {},
     "output_type": "execute_result"
    }
   ],
   "source": [
    "def sumToN(n):\n",
    "\n",
    "    s = 0\n",
    "\n",
    "    for i in range(1,n+1):\n",
    "        s += i\n",
    "        # Print loop invariant here\n",
    "    return(s)\n",
    "\n",
    "sumToN(100)"
   ]
  },
  {
   "cell_type": "markdown",
   "metadata": {},
   "source": [
    "## Selection sort"
   ]
  },
  {
   "cell_type": "code",
   "execution_count": 6,
   "metadata": {},
   "outputs": [
    {
     "name": "stdout",
     "output_type": "stream",
     "text": [
      "Original list:  [45, 43, 24, 14, 6, 18, 97, 24, 63, 57]\n",
      "sorted list after k iter: [6]\n",
      "sorted list after k iter: [6, 14]\n",
      "sorted list after k iter: [6, 14, 18]\n",
      "sorted list after k iter: [6, 14, 18, 24]\n",
      "sorted list after k iter: [6, 14, 18, 24, 24]\n",
      "sorted list after k iter: [6, 14, 18, 24, 24, 43]\n",
      "sorted list after k iter: [6, 14, 18, 24, 24, 43, 45]\n",
      "sorted list after k iter: [6, 14, 18, 24, 24, 43, 45, 57]\n",
      "sorted list after k iter: [6, 14, 18, 24, 24, 43, 45, 57, 63]\n",
      "sorted list after k iter: [6, 14, 18, 24, 24, 43, 45, 57, 63, 97]\n"
     ]
    },
    {
     "data": {
      "text/plain": [
       "[6, 14, 18, 24, 24, 43, 45, 57, 63, 97]"
      ]
     },
     "execution_count": 6,
     "metadata": {},
     "output_type": "execute_result"
    }
   ],
   "source": [
    "import math\n",
    "\n",
    "def selectionSort(L):\n",
    "    print(\"Original list: \", L)\n",
    "    sorted_list = []\n",
    "    for k in range(len(L)):\n",
    "        minSoFar = math.inf\n",
    "        pos = 0\n",
    "        for i in range(len(L)):\n",
    "            if L[i] < minSoFar:\n",
    "                minSoFar = L[i]\n",
    "                pos = i\n",
    "        \n",
    "        L.pop(pos)\n",
    "        \n",
    "        sorted_list.append(minSoFar)\n",
    "        # Print loop invariant here\n",
    "        print(\"sorted list after k iter:\",  sorted_list)\n",
    "        \n",
    "    return(sorted_list)\n",
    "    \n",
    "selectionSort([45, 43, 24, 14, 6, 18, 97, 24, 63, 57])"
   ]
  },
  {
   "cell_type": "markdown",
   "metadata": {},
   "source": [
    "## Insertion sort"
   ]
  },
  {
   "cell_type": "code",
   "execution_count": 5,
   "metadata": {},
   "outputs": [
    {
     "data": {
      "text/plain": [
       "[5, 11, 14, 16, 16, 21, 24, 25, 36, 47, 77, 89, 125, 135]"
      ]
     },
     "execution_count": 5,
     "metadata": {},
     "output_type": "execute_result"
    }
   ],
   "source": [
    "import math\n",
    "def insertionSort(L):\n",
    "    sorted_list = []\n",
    "    \n",
    "    while len(L) > 0:\n",
    "        m = L.pop(0)\n",
    "        left = -1\n",
    "        right = len(sorted_list)\n",
    "        while right-left > 1:\n",
    "            mid = (left+right)//2\n",
    "            if sorted_list[mid] > m:\n",
    "                right = mid\n",
    "            elif sorted_list[mid] <= m:\n",
    "                left = mid\n",
    "        sorted_list.insert(left+1, m)\n",
    "        \n",
    "        # Print loop invariant here\n",
    "        \n",
    "        \n",
    "    return(sorted_list)\n",
    "\n",
    "insertionSort([16, 21, 135, 14, 24, 47, 25, 5 ,77, 89, 11, 125, 36, 16])"
   ]
  },
  {
   "cell_type": "markdown",
   "metadata": {},
   "source": [
    "## Euclidean algorithm"
   ]
  },
  {
   "cell_type": "code",
   "execution_count": 12,
   "metadata": {},
   "outputs": [
    {
     "name": "stdout",
     "output_type": "stream",
     "text": [
      "234 162\n",
      "162 72\n",
      "72 18\n"
     ]
    },
    {
     "data": {
      "text/plain": [
       "18"
      ]
     },
     "execution_count": 12,
     "metadata": {},
     "output_type": "execute_result"
    }
   ],
   "source": [
    "def GCD(A, B):\n",
    "\n",
    "    if B > A:\n",
    "        A, B = B, A\n",
    "    \n",
    "    while A%B != 0:\n",
    "        # shrink the size of A, B\n",
    "        A,B = B, A%B\n",
    "        \n",
    "        print(A, B)\n",
    "    return B\n",
    "\n",
    "GCD(1098,234)\n",
    "    \n",
    "    "
   ]
  },
  {
   "cell_type": "markdown",
   "metadata": {},
   "source": [
    "## Linear search"
   ]
  },
  {
   "cell_type": "code",
   "execution_count": null,
   "metadata": {},
   "outputs": [],
   "source": [
    "def linear_search(x, L):\n",
    "    i = 0\n",
    "    while i < len(L) and x != L[i]:\n",
    "        i+=1\n",
    "        \n",
    "        # Print loop invariant here\n",
    "        \n",
    "        \n",
    "        \n",
    "    if i == len(L):\n",
    "        return(math.inf)\n",
    "    else:\n",
    "        return(i)\n",
    "    \n",
    "L = [16, 21, 135, 14, 24, 47, 25, 5 ,77, 89, 11, 125, 36, 16]\n",
    "linear_search(11, L)"
   ]
  },
  {
   "cell_type": "markdown",
   "metadata": {},
   "source": [
    "## Binary search"
   ]
  },
  {
   "cell_type": "code",
   "execution_count": null,
   "metadata": {
    "scrolled": true
   },
   "outputs": [],
   "source": [
    "def binary_search(L, x):\n",
    "    left, right = 0, len(L) - 1\n",
    "\n",
    "    while left <= right:\n",
    "        mid = (left + right) // 2\n",
    "\n",
    "        if L[mid] == x:\n",
    "            return(mid)\n",
    "        elif L[mid] < x:\n",
    "            left = mid + 1\n",
    "        else:\n",
    "            right = mid - 1\n",
    "        \n",
    "        # Print loop invariant here\n",
    "\n",
    "    return(-1)\n",
    "\n",
    "\n",
    "L = [5, 11, 14, 16, 16, 21, 24, 25, 36, 47, 77, 89, 125, 135]\n",
    "x = 47\n",
    "\n",
    "binary_search(L, x)"
   ]
  }
 ],
 "metadata": {
  "kernelspec": {
   "display_name": "Python 3",
   "language": "python",
   "name": "python3"
  },
  "language_info": {
   "codemirror_mode": {
    "name": "ipython",
    "version": 3
   },
   "file_extension": ".py",
   "mimetype": "text/x-python",
   "name": "python",
   "nbconvert_exporter": "python",
   "pygments_lexer": "ipython3",
   "version": "3.8.5"
  }
 },
 "nbformat": 4,
 "nbformat_minor": 4
}
