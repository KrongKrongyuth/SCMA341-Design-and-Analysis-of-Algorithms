{
 "cells": [
  {
   "cell_type": "markdown",
   "id": "65eba545",
   "metadata": {},
   "source": [
    "# Event scheduling "
   ]
  },
  {
   "cell_type": "code",
   "execution_count": 4,
   "id": "883b6303",
   "metadata": {},
   "outputs": [
    {
     "data": {
      "text/plain": [
       "[[2, 4],\n",
       " [1, 5],\n",
       " [3, 5],\n",
       " [4, 5],\n",
       " [0, 6],\n",
       " [3, 7],\n",
       " [6, 10],\n",
       " [9, 10],\n",
       " [8, 11],\n",
       " [10, 15]]"
      ]
     },
     "execution_count": 4,
     "metadata": {},
     "output_type": "execute_result"
    }
   ],
   "source": [
    "eventList = [[1,5],[0,6],[2,4],[3,5],[3,7],[4,5],[6,10],[8,11], [9,10], [10, 15]]\n",
    "\n",
    "eventList.sort(key = lambda x:x[1]) # Get the second elemnet from each list.\n",
    "eventList"
   ]
  },
  {
   "cell_type": "code",
   "execution_count": 15,
   "id": "cf1fd2a8",
   "metadata": {},
   "outputs": [
    {
     "data": {
      "text/plain": [
       "[[2, 4], [4, 5], [6, 10], [10, 15]]"
      ]
     },
     "execution_count": 15,
     "metadata": {},
     "output_type": "execute_result"
    }
   ],
   "source": [
    "eventList = [[1,5],[0,6],[2,4],[3,5],[3,7],[4,5],[6,10],[8,11], [9,10], [10, 15]]\n",
    "eventList.sort(key = lambda x:x[1]) # Get the second elemnet from each list.\n",
    "\n",
    "# Sort the eventList by using the ending time\n",
    "# Using sorted(List, key = lambda x:x[arg])\n",
    "\n",
    "chosenEventList = []\n",
    "\n",
    "# Put the first event in the sortedEventList into chosenEventList\n",
    "chosenEventList.append(eventList.pop(0))\n",
    "\n",
    "# As long as the sortedEventList has some events\n",
    "while eventList:\n",
    "    # remove conflicting event when starting time of the next event is before the ending time of the last chosen event\n",
    "    if eventList[0][0] < chosenEventList[-1][1]:\n",
    "        eventList.pop(0)\n",
    "    # Otherwise, keep the first event in sortedEventList\n",
    "    else : chosenEventList.append(eventList.pop(0))\n",
    "\n",
    "chosenEventList"
   ]
  },
  {
   "cell_type": "code",
   "execution_count": null,
   "id": "7ef779b7",
   "metadata": {},
   "outputs": [],
   "source": []
  }
 ],
 "metadata": {
  "kernelspec": {
   "display_name": "Python 3 (ipykernel)",
   "language": "python",
   "name": "python3"
  },
  "language_info": {
   "codemirror_mode": {
    "name": "ipython",
    "version": 3
   },
   "file_extension": ".py",
   "mimetype": "text/x-python",
   "name": "python",
   "nbconvert_exporter": "python",
   "pygments_lexer": "ipython3",
   "version": "3.10.0"
  }
 },
 "nbformat": 4,
 "nbformat_minor": 5
}
