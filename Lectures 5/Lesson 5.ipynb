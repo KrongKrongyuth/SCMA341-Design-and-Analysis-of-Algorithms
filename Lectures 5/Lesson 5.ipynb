{
 "cells": [
  {
   "cell_type": "code",
   "execution_count": 25,
   "id": "33651d23",
   "metadata": {},
   "outputs": [
    {
     "data": {
      "text/plain": [
       "139423224561697880139724382870407283950070256587697307264108962948325571622863290691557658876222521294125"
      ]
     },
     "execution_count": 25,
     "metadata": {},
     "output_type": "execute_result"
    }
   ],
   "source": [
    "# Standard Version\n",
    "def fibo(i):\n",
    "    # Base case\n",
    "    if i == 1: return (1)\n",
    "    elif i == 2: return (1)\n",
    "    # Recursive case\n",
    "    else: return fibo(i-1) + fibo(i-2)\n",
    "\n",
    "# Dynamic Version\n",
    "def fibo(i, memo = {1:1, 2:1}):\n",
    "    if i in memo.keys():\n",
    "        return memo[i]\n",
    "    elif i not in memo.keys():\n",
    "        memo[i] = fibo(i-1) + fibo(i-2)\n",
    "        return memo[i]\n",
    "\n",
    "fibo(500)"
   ]
  },
  {
   "cell_type": "code",
   "execution_count": 53,
   "id": "6befe786",
   "metadata": {},
   "outputs": [
    {
     "name": "stdout",
     "output_type": "stream",
     "text": [
      "[4, 5, 2, 7, 1, 6, 3] [6, 12, 4, 5, 13, 8, 23]\n",
      "[4, 5, 2] [7, 1, 6, 3]\n",
      "[4] [5, 2]\n",
      "[5] [2]\n",
      "[7, 1] [6, 3]\n",
      "[7] [1]\n",
      "[6] [3]\n",
      "[6, 12, 4] [5, 13, 8, 23]\n",
      "[6] [12, 4]\n",
      "[12] [4]\n",
      "[5, 13] [8, 23]\n",
      "[5] [13]\n",
      "[8] [23]\n"
     ]
    },
    {
     "data": {
      "text/plain": [
       "[1, 2, 3, 4, 4, 5, 5, 6, 6, 7, 8, 12, 13, 23]"
      ]
     },
     "execution_count": 53,
     "metadata": {},
     "output_type": "execute_result"
    }
   ],
   "source": [
    "def mergeSort(L):\n",
    "    \n",
    "    if len(L) <= 1:\n",
    "        return(L)\n",
    "    else:\n",
    "        mid = len(L)//2\n",
    "        firstHalf = L[:mid]\n",
    "        secondHalf = L[mid:]\n",
    "\n",
    "        print(firstHalf, secondHalf)\n",
    "\n",
    "        # Assign first half and second half to two friends\n",
    "        sortedFirst, sortedSecond = mergeSort(firstHalf), mergeSort(secondHalf)\n",
    "\n",
    "        merged = []\n",
    "        # As long as sortedFirst and sortedSecond are not empty, pop the smaller head and append to merged list\n",
    "        while len(sortedFirst) > 0 and len(sortedSecond) > 0:\n",
    "            if sortedFirst[0] < sortedSecond[0]:\n",
    "                merged.append(sortedFirst.pop(0))   # remove the first element from sortedFirst, append to merged\n",
    "            else:\n",
    "                merged.append(sortedSecond.pop(0))\n",
    "        \n",
    "        # Append all the leftover to the end of merged list\n",
    "        merged = merged + sortedFirst + sortedSecond\n",
    "        \n",
    "        return(merged)\n",
    "    \n",
    "mergeSort([4,5,2,7,1,6,3,6,12,4,5,13,8,23])"
   ]
  },
  {
   "cell_type": "code",
   "execution_count": 42,
   "id": "8891a806",
   "metadata": {},
   "outputs": [],
   "source": [
    "def quickSort(L):\n",
    "\n",
    "    \n",
    "    if len(L) <= 1:\n",
    "        return(L)\n",
    "    \n",
    "    else:\n",
    "        smaller = []\n",
    "        larger = []\n",
    "        \n",
    "        \n",
    "        # Get the pivot element\n",
    "        first = L.pop(0)\n",
    "        \n",
    "        # Separate L into smaller and larger partitions\n",
    "        \n",
    "        \n",
    "        \n",
    "        \n",
    "        \n",
    "        # Assign smaller partition and larger parition to quicksort\n",
    "      \n",
    "    \n",
    "    \n",
    "    \n",
    "        # Append the sorted smaller partition, pivot element, and sorted larger partition\n",
    "                                \n",
    "                                \n",
    "    \n",
    "        \n",
    "quickSort([4,5,2,7,1,6,3,6,12,4,5,13,8,23])"
   ]
  }
 ],
 "metadata": {
  "kernelspec": {
   "display_name": "Python 3 (ipykernel)",
   "language": "python",
   "name": "python3"
  },
  "language_info": {
   "codemirror_mode": {
    "name": "ipython",
    "version": 3
   },
   "file_extension": ".py",
   "mimetype": "text/x-python",
   "name": "python",
   "nbconvert_exporter": "python",
   "pygments_lexer": "ipython3",
   "version": "3.10.0"
  }
 },
 "nbformat": 4,
 "nbformat_minor": 5
}
