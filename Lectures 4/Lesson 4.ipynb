{
 "cells": [
  {
   "cell_type": "markdown",
   "id": "e8e548ba",
   "metadata": {},
   "source": [
    "# Naive string searching"
   ]
  },
  {
   "cell_type": "code",
   "execution_count": 112,
   "id": "c26a5655",
   "metadata": {
    "scrolled": true
   },
   "outputs": [
    {
     "name": "stdout",
     "output_type": "stream",
     "text": [
      "NOT FOUND!!\n"
     ]
    }
   ],
   "source": [
    "text = \"aaaaaaaaaaaaaaaaaaaaaaaaaaaaaaaaaaaaaaaaaaaaaaaaabaaaacccc\"\n",
    "pattern = \"ccccc\"\n",
    "\n",
    "i = 0 \n",
    "j = 0\n",
    "counter = 0\n",
    "finished = False\n",
    "\n",
    "# For loop VERSION\n",
    "# for i in range(len(text) - len(pattern) + 1):\n",
    "#     for j in range(len(pattern)):\n",
    "#         if text[i] == pattern[j]:\n",
    "#             counter += 1; i += 1; j += 1\n",
    "#             if counter == len(pattern):\n",
    "#                 finished = True\n",
    "#                 print(f\"\\nFOUND!!\\ni = {i}, j = {j}, counter = {counter}\")\n",
    "#                 break\n",
    "#         else:\n",
    "#             counter = 0\n",
    "#     if finished: break\n",
    "#     elif i == len(text) - len(pattern): print(\"NOT FOUND!!\")\n",
    "\n",
    "# While loop VERSION (without ran out of string condition)\n",
    "# while i < len(text) and j < len(pattern):\n",
    "#     if pattern[j] == text[i]:\n",
    "#         i += 1; j += 1; counter += 1\n",
    "#         if counter == len(pattern):\n",
    "#             print(f\"\\nFOUND!!\\ni = {i}, j = {j}, counter = {counter}\")\n",
    "#             break\n",
    "#     else:\n",
    "#         i = i - j + 1; j = 0; counter = 0\n",
    "#         if i == len(text): print(\"NOT FOUND!!\")\n",
    "\n",
    "# As long as there are text index and pattern index available, \n",
    "\n",
    "    # If text and pattern match, \n",
    "        #move to next char for both text and pattern\n",
    "    \n",
    "    # Else, if first char of pattern does not match text, \n",
    "        # then move to process the next char on text\n",
    "    \n",
    "    # Otherwise, there is a mismatch at some other position\n",
    "        # backtrack to where the pattern started, and move 1 forward\n",
    "        \n",
    "\n",
    "#Return position of pattern found in text"
   ]
  },
  {
   "cell_type": "markdown",
   "id": "b9273f0a",
   "metadata": {},
   "source": [
    "# LPS table algorithm"
   ]
  },
  {
   "cell_type": "code",
   "execution_count": 131,
   "id": "180d520f",
   "metadata": {},
   "outputs": [],
   "source": [
    "def lpsString(pattern):\n",
    "    lps = [0]*len(pattern) \n",
    "\n",
    "    # Generate substring of pattern\n",
    "    for len_subs in range(2, len(pattern) + 1):\n",
    "        substring = pattern[:len_subs]\n",
    "        # Find the longest proper prefix that match suffix\n",
    "        for len_pre in range(1, len_subs):\n",
    "            prefix = substring[:len_pre]\n",
    "            suffix = substring[-len_pre:]\n",
    "            if prefix == suffix:\n",
    "                lps[len_subs - 1] = len_pre\n",
    "    # return the table\n",
    "    return (lps)\n"
   ]
  },
  {
   "cell_type": "code",
   "execution_count": 132,
   "id": "264d4387",
   "metadata": {},
   "outputs": [
    {
     "data": {
      "text/plain": [
       "[0, 1, 2, 3, 4, 0, 1, 2]"
      ]
     },
     "execution_count": 132,
     "metadata": {},
     "output_type": "execute_result"
    }
   ],
   "source": [
    "lpsString(\"aaaaabaa\")"
   ]
  },
  {
   "cell_type": "markdown",
   "id": "3c081f36",
   "metadata": {},
   "source": [
    "# KMP string searching\n"
   ]
  },
  {
   "cell_type": "code",
   "execution_count": 135,
   "id": "67200c61",
   "metadata": {},
   "outputs": [
    {
     "name": "stdout",
     "output_type": "stream",
     "text": [
      "[0, 1, 2, 3, 4, 5, 6, 7, 8, 9, 10, 11, 12, 13, 14, 15, 16, 17, 18, 19, 20, 21, 22, 23, 24, 25, 26, 0]\n"
     ]
    },
    {
     "ename": "IndexError",
     "evalue": "string index out of range",
     "output_type": "error",
     "traceback": [
      "\u001b[0;31m---------------------------------------------------------------------------\u001b[0m",
      "\u001b[0;31mIndexError\u001b[0m                                Traceback (most recent call last)",
      "Cell \u001b[0;32mIn[135], line 34\u001b[0m\n\u001b[1;32m     10\u001b[0m \u001b[38;5;66;03m# while i < len(text) and j < len(pattern):\u001b[39;00m\n\u001b[1;32m     11\u001b[0m     \n\u001b[1;32m     12\u001b[0m     \n\u001b[0;32m   (...)\u001b[0m\n\u001b[1;32m     30\u001b[0m \u001b[38;5;66;03m# else:\u001b[39;00m\n\u001b[1;32m     31\u001b[0m \u001b[38;5;66;03m#     print(\"not found\")\u001b[39;00m\n\u001b[1;32m     33\u001b[0m \u001b[38;5;28;01mwhile\u001b[39;00m i \u001b[38;5;241m<\u001b[39m \u001b[38;5;28mlen\u001b[39m(text) \u001b[38;5;129;01mand\u001b[39;00m j \u001b[38;5;241m<\u001b[39m \u001b[38;5;28mlen\u001b[39m(pattern):\n\u001b[0;32m---> 34\u001b[0m     \u001b[38;5;28;01mif\u001b[39;00m pattern[j] \u001b[38;5;241m==\u001b[39m \u001b[43mtext\u001b[49m\u001b[43m[\u001b[49m\u001b[43mi\u001b[49m\u001b[43m]\u001b[49m:\n\u001b[1;32m     35\u001b[0m         i \u001b[38;5;241m+\u001b[39m\u001b[38;5;241m=\u001b[39m \u001b[38;5;241m1\u001b[39m; j \u001b[38;5;241m+\u001b[39m\u001b[38;5;241m=\u001b[39m \u001b[38;5;241m1\u001b[39m; counter \u001b[38;5;241m+\u001b[39m\u001b[38;5;241m=\u001b[39m \u001b[38;5;241m1\u001b[39m\n\u001b[1;32m     36\u001b[0m         \u001b[38;5;28;01mif\u001b[39;00m counter \u001b[38;5;241m==\u001b[39m \u001b[38;5;28mlen\u001b[39m(pattern):\n",
      "\u001b[0;31mIndexError\u001b[0m: string index out of range"
     ]
    }
   ],
   "source": [
    "text = \"aaaaaaaaaaaaaaaaaaaaaaaaaaaaaaaaaaaaaaaaaaaaaaaaab\"\n",
    "pattern = \"aaaaaaaaaaaaaaaaaaaaaaaaaaab\"\n",
    "\n",
    "lps = lpsString(pattern)\n",
    "print(lps)\n",
    "\n",
    "i = 0\n",
    "j = 0\n",
    "counter = 0\n",
    "# while i < len(text) and j < len(pattern):\n",
    "    \n",
    "    \n",
    "#     print(\"now compare \", text[i], \" and \" , pattern[j], \"at \", i,j)\n",
    "    \n",
    "#     # If text and pattern match, \n",
    "#     if text[i] == pattern[j]:\n",
    "#         # move both text and pattern to next index\n",
    "#         i += 1; j += 1\n",
    "        \n",
    "#     # Else, found a mismatch, \n",
    "#     else:\n",
    "#         lps[j-1]\n",
    "#         # backtrack index of pattern to where suffix repeats prefix, \n",
    "#         # no need to update index of text\n",
    "        \n",
    "# #Return position of pattern found in text\n",
    "# print(i,j)\n",
    "# if j == len(pattern):\n",
    "#     print(i - j)\n",
    "# else:\n",
    "#     print(\"not found\")\n",
    "\n",
    "while i < len(text) and j < len(pattern):\n",
    "    if pattern[j] == text[i]:\n",
    "        i += 1; j += 1; counter += 1\n",
    "        if counter == len(pattern):\n",
    "            print(f\"\\nFOUND!!\\ni = {i}, j = {j}, counter = {counter}\")\n",
    "            break\n",
    "    else:\n",
    "        i = i - j + 1; j = lps[j-1]; counter = 0\n",
    "\n",
    "print(i,j)\n",
    "if j == len(pattern):\n",
    "    print(i - j)\n",
    "else:\n",
    "    print(\"not found\")"
   ]
  },
  {
   "cell_type": "code",
   "execution_count": null,
   "id": "e53e2738",
   "metadata": {},
   "outputs": [],
   "source": []
  }
 ],
 "metadata": {
  "kernelspec": {
   "display_name": "Python 3 (ipykernel)",
   "language": "python",
   "name": "python3"
  },
  "language_info": {
   "codemirror_mode": {
    "name": "ipython",
    "version": 3
   },
   "file_extension": ".py",
   "mimetype": "text/x-python",
   "name": "python",
   "nbconvert_exporter": "python",
   "pygments_lexer": "ipython3",
   "version": "3.10.0"
  }
 },
 "nbformat": 4,
 "nbformat_minor": 5
}
